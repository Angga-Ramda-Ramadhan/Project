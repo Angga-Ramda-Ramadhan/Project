{
 "cells": [
  {
   "cell_type": "code",
   "execution_count": 1,
   "id": "3bb037ad",
   "metadata": {},
   "outputs": [],
   "source": [
    "import pandas as pd, numpy as np, seaborn as sns, matplotlib.pyplot as plt"
   ]
  },
  {
   "cell_type": "code",
   "execution_count": 2,
   "id": "67b81697",
   "metadata": {},
   "outputs": [
    {
     "data": {
      "text/html": [
       "<div>\n",
       "<style scoped>\n",
       "    .dataframe tbody tr th:only-of-type {\n",
       "        vertical-align: middle;\n",
       "    }\n",
       "\n",
       "    .dataframe tbody tr th {\n",
       "        vertical-align: top;\n",
       "    }\n",
       "\n",
       "    .dataframe thead th {\n",
       "        text-align: right;\n",
       "    }\n",
       "</style>\n",
       "<table border=\"1\" class=\"dataframe\">\n",
       "  <thead>\n",
       "    <tr style=\"text-align: right;\">\n",
       "      <th></th>\n",
       "      <th>Observation</th>\n",
       "      <th>Dist_Taxi</th>\n",
       "      <th>Dist_Market</th>\n",
       "      <th>Dist_Hospital</th>\n",
       "      <th>Carpet</th>\n",
       "      <th>Builtup</th>\n",
       "      <th>Parking</th>\n",
       "      <th>City_Category</th>\n",
       "      <th>Rainfall</th>\n",
       "      <th>House_Price</th>\n",
       "    </tr>\n",
       "  </thead>\n",
       "  <tbody>\n",
       "    <tr>\n",
       "      <th>0</th>\n",
       "      <td>1</td>\n",
       "      <td>9796.0</td>\n",
       "      <td>5250.0</td>\n",
       "      <td>10703.0</td>\n",
       "      <td>1659.0</td>\n",
       "      <td>1961.0</td>\n",
       "      <td>Open</td>\n",
       "      <td>CAT B</td>\n",
       "      <td>530</td>\n",
       "      <td>6649000</td>\n",
       "    </tr>\n",
       "    <tr>\n",
       "      <th>1</th>\n",
       "      <td>2</td>\n",
       "      <td>8294.0</td>\n",
       "      <td>8186.0</td>\n",
       "      <td>12694.0</td>\n",
       "      <td>1461.0</td>\n",
       "      <td>1752.0</td>\n",
       "      <td>Not Provided</td>\n",
       "      <td>CAT B</td>\n",
       "      <td>210</td>\n",
       "      <td>3982000</td>\n",
       "    </tr>\n",
       "    <tr>\n",
       "      <th>2</th>\n",
       "      <td>3</td>\n",
       "      <td>11001.0</td>\n",
       "      <td>14399.0</td>\n",
       "      <td>16991.0</td>\n",
       "      <td>1340.0</td>\n",
       "      <td>1609.0</td>\n",
       "      <td>Not Provided</td>\n",
       "      <td>CAT A</td>\n",
       "      <td>720</td>\n",
       "      <td>5401000</td>\n",
       "    </tr>\n",
       "    <tr>\n",
       "      <th>3</th>\n",
       "      <td>4</td>\n",
       "      <td>8301.0</td>\n",
       "      <td>11188.0</td>\n",
       "      <td>12289.0</td>\n",
       "      <td>1451.0</td>\n",
       "      <td>1748.0</td>\n",
       "      <td>Covered</td>\n",
       "      <td>CAT B</td>\n",
       "      <td>620</td>\n",
       "      <td>5373000</td>\n",
       "    </tr>\n",
       "    <tr>\n",
       "      <th>4</th>\n",
       "      <td>5</td>\n",
       "      <td>10510.0</td>\n",
       "      <td>12629.0</td>\n",
       "      <td>13921.0</td>\n",
       "      <td>1770.0</td>\n",
       "      <td>2111.0</td>\n",
       "      <td>Not Provided</td>\n",
       "      <td>CAT B</td>\n",
       "      <td>450</td>\n",
       "      <td>4662000</td>\n",
       "    </tr>\n",
       "  </tbody>\n",
       "</table>\n",
       "</div>"
      ],
      "text/plain": [
       "   Observation  Dist_Taxi  Dist_Market  Dist_Hospital  Carpet  Builtup  \\\n",
       "0            1     9796.0       5250.0        10703.0  1659.0   1961.0   \n",
       "1            2     8294.0       8186.0        12694.0  1461.0   1752.0   \n",
       "2            3    11001.0      14399.0        16991.0  1340.0   1609.0   \n",
       "3            4     8301.0      11188.0        12289.0  1451.0   1748.0   \n",
       "4            5    10510.0      12629.0        13921.0  1770.0   2111.0   \n",
       "\n",
       "        Parking City_Category  Rainfall  House_Price  \n",
       "0          Open         CAT B       530      6649000  \n",
       "1  Not Provided         CAT B       210      3982000  \n",
       "2  Not Provided         CAT A       720      5401000  \n",
       "3       Covered         CAT B       620      5373000  \n",
       "4  Not Provided         CAT B       450      4662000  "
      ]
     },
     "execution_count": 2,
     "metadata": {},
     "output_type": "execute_result"
    }
   ],
   "source": [
    "#Membaca Data\n",
    "data = pd.read_csv(\"price.csv\")\n",
    "data.head()"
   ]
  },
  {
   "cell_type": "markdown",
   "id": "17ace0fc",
   "metadata": {},
   "source": [
    "# Preprocessing"
   ]
  },
  {
   "cell_type": "code",
   "execution_count": 3,
   "id": "a8933b74",
   "metadata": {},
   "outputs": [
    {
     "name": "stdout",
     "output_type": "stream",
     "text": [
      "<class 'pandas.core.frame.DataFrame'>\n",
      "RangeIndex: 936 entries, 0 to 935\n",
      "Data columns (total 10 columns):\n",
      " #   Column         Non-Null Count  Dtype  \n",
      "---  ------         --------------  -----  \n",
      " 0   Observation    936 non-null    int64  \n",
      " 1   Dist_Taxi      923 non-null    float64\n",
      " 2   Dist_Market    923 non-null    float64\n",
      " 3   Dist_Hospital  935 non-null    float64\n",
      " 4   Carpet         928 non-null    float64\n",
      " 5   Builtup        921 non-null    float64\n",
      " 6   Parking        936 non-null    object \n",
      " 7   City_Category  936 non-null    object \n",
      " 8   Rainfall       936 non-null    int64  \n",
      " 9   House_Price    936 non-null    int64  \n",
      "dtypes: float64(5), int64(3), object(2)\n",
      "memory usage: 73.3+ KB\n"
     ]
    }
   ],
   "source": [
    "data.info()"
   ]
  },
  {
   "cell_type": "markdown",
   "id": "1e9075d5",
   "metadata": {},
   "source": [
    "## Data Cleaning"
   ]
  },
  {
   "cell_type": "code",
   "execution_count": 4,
   "id": "112ab31b",
   "metadata": {},
   "outputs": [
    {
     "data": {
      "text/plain": [
       "0"
      ]
     },
     "execution_count": 4,
     "metadata": {},
     "output_type": "execute_result"
    }
   ],
   "source": [
    "data.duplicated().sum()"
   ]
  },
  {
   "cell_type": "code",
   "execution_count": 5,
   "id": "59f122fa",
   "metadata": {},
   "outputs": [
    {
     "data": {
      "text/plain": [
       "50"
      ]
     },
     "execution_count": 5,
     "metadata": {},
     "output_type": "execute_result"
    }
   ],
   "source": [
    "data.isnull().sum().sum()"
   ]
  },
  {
   "cell_type": "code",
   "execution_count": 6,
   "id": "4fa7c34a",
   "metadata": {},
   "outputs": [],
   "source": [
    "data.dropna(how='any', inplace=True)"
   ]
  },
  {
   "cell_type": "code",
   "execution_count": 7,
   "id": "bd5e4d56",
   "metadata": {},
   "outputs": [
    {
     "data": {
      "text/plain": [
       "Observation      0\n",
       "Dist_Taxi        0\n",
       "Dist_Market      0\n",
       "Dist_Hospital    0\n",
       "Carpet           0\n",
       "Builtup          0\n",
       "Parking          0\n",
       "City_Category    0\n",
       "Rainfall         0\n",
       "House_Price      0\n",
       "dtype: int64"
      ]
     },
     "execution_count": 7,
     "metadata": {},
     "output_type": "execute_result"
    }
   ],
   "source": [
    "data.isnull().sum()"
   ]
  },
  {
   "cell_type": "code",
   "execution_count": 8,
   "id": "a57fc556",
   "metadata": {
    "scrolled": true
   },
   "outputs": [
    {
     "name": "stderr",
     "output_type": "stream",
     "text": [
      "C:\\Users\\ASUS\\anaconda3\\envs\\dm\\Lib\\site-packages\\seaborn\\_oldcore.py:1498: FutureWarning: is_categorical_dtype is deprecated and will be removed in a future version. Use isinstance(dtype, CategoricalDtype) instead\n",
      "  if pd.api.types.is_categorical_dtype(vector):\n"
     ]
    },
    {
     "data": {
      "text/plain": [
       "<Axes: ylabel='Dist_Taxi'>"
      ]
     },
     "execution_count": 8,
     "metadata": {},
     "output_type": "execute_result"
    },
    {
     "data": {
      "image/png": "[encoded data removed]",
      "text/plain": [
       "<Figure size 640x480 with 1 Axes>"
      ]
     },
     "metadata": {},
     "output_type": "display_data"
    }
   ],
   "source": [
    "sns.boxplot(data, y='Dist_Taxi')"
   ]
  },
  {
   "cell_type": "code",
   "execution_count": 9,
   "id": "8ec99245",
   "metadata": {},
   "outputs": [],
   "source": [
    "data['Dt_z'] = (data['Dist_Taxi'] - data['Dist_Taxi'].mean())/data['Dist_Taxi'].std()"
   ]
  },
  {
   "cell_type": "code",
   "execution_count": 10,
   "id": "39ff8470",
   "metadata": {},
   "outputs": [
    {
     "name": "stderr",
     "output_type": "stream",
     "text": [
      "C:\\Users\\ASUS\\anaconda3\\envs\\dm\\Lib\\site-packages\\seaborn\\_oldcore.py:1498: FutureWarning: is_categorical_dtype is deprecated and will be removed in a future version. Use isinstance(dtype, CategoricalDtype) instead\n",
      "  if pd.api.types.is_categorical_dtype(vector):\n"
     ]
    },
    {
     "data": {
      "text/plain": [
       "<Axes: ylabel='Dist_Market'>"
      ]
     },
     "execution_count": 10,
     "metadata": {},
     "output_type": "execute_result"
    },
    {
     "data": {
      "image/png": "[encoded data removed]",
      "text/plain": [
       "<Figure size 640x480 with 1 Axes>"
      ]
     },
     "metadata": {},
     "output_type": "display_data"
    }
   ],
   "source": [
    "sns.boxplot(data, y='Dist_Market')"
   ]
  },
  {
   "cell_type": "code",
   "execution_count": 11,
   "id": "b4c5a7db",
   "metadata": {},
   "outputs": [],
   "source": [
    "data['Dm_z'] = (data['Dist_Market'] - data['Dist_Market'].mean())/data['Dist_Market'].std()"
   ]
  },
  {
   "cell_type": "code",
   "execution_count": 12,
   "id": "ff6b539d",
   "metadata": {},
   "outputs": [
    {
     "name": "stderr",
     "output_type": "stream",
     "text": [
      "C:\\Users\\ASUS\\anaconda3\\envs\\dm\\Lib\\site-packages\\seaborn\\_oldcore.py:1498: FutureWarning: is_categorical_dtype is deprecated and will be removed in a future version. Use isinstance(dtype, CategoricalDtype) instead\n",
      "  if pd.api.types.is_categorical_dtype(vector):\n"
     ]
    },
    {
     "data": {
      "text/plain": [
       "<Axes: ylabel='Dist_Hospital'>"
      ]
     },
     "execution_count": 12,
     "metadata": {},
     "output_type": "execute_result"
    },
    {
     "data": {
      "image/png": "[encoded data removed]",
      "text/plain": [
       "<Figure size 640x480 with 1 Axes>"
      ]
     },
     "metadata": {},
     "output_type": "display_data"
    }
   ],
   "source": [
    "sns.boxplot(data, y='Dist_Hospital')"
   ]
  },
  {
   "cell_type": "code",
   "execution_count": 13,
   "id": "c406406a",
   "metadata": {},
   "outputs": [],
   "source": [
    "data['Dh_z'] = (data['Dist_Hospital'] - data['Dist_Hospital'].mean())/data['Dist_Hospital'].std()"
   ]
  },
  {
   "cell_type": "code",
   "execution_count": 14,
   "id": "3939d012",
   "metadata": {},
   "outputs": [
    {
     "name": "stderr",
     "output_type": "stream",
     "text": [
      "C:\\Users\\ASUS\\anaconda3\\envs\\dm\\Lib\\site-packages\\seaborn\\_oldcore.py:1498: FutureWarning: is_categorical_dtype is deprecated and will be removed in a future version. Use isinstance(dtype, CategoricalDtype) instead\n",
      "  if pd.api.types.is_categorical_dtype(vector):\n"
     ]
    },
    {
     "data": {
      "text/plain": [
       "<Axes: ylabel='Carpet'>"
      ]
     },
     "execution_count": 14,
     "metadata": {},
     "output_type": "execute_result"
    },
    {
     "data": {
      "image/png": "[encoded data removed]",
      "text/plain": [
       "<Figure size 640x480 with 1 Axes>"
      ]
     },
     "metadata": {},
     "output_type": "display_data"
    }
   ],
   "source": [
    "sns.boxplot(data, y='Carpet')"
   ]
  },
  {
   "cell_type": "code",
   "execution_count": 15,
   "id": "a579b815",
   "metadata": {},
   "outputs": [],
   "source": [
    "data['car_z'] = (data['Carpet'] - data['Carpet'].mean())/data['Carpet'].std()"
   ]
  },
  {
   "cell_type": "code",
   "execution_count": 16,
   "id": "bf2390ff",
   "metadata": {},
   "outputs": [
    {
     "name": "stderr",
     "output_type": "stream",
     "text": [
      "C:\\Users\\ASUS\\anaconda3\\envs\\dm\\Lib\\site-packages\\seaborn\\_oldcore.py:1498: FutureWarning: is_categorical_dtype is deprecated and will be removed in a future version. Use isinstance(dtype, CategoricalDtype) instead\n",
      "  if pd.api.types.is_categorical_dtype(vector):\n"
     ]
    },
    {
     "data": {
      "text/plain": [
       "<Axes: ylabel='Builtup'>"
      ]
     },
     "execution_count": 16,
     "metadata": {},
     "output_type": "execute_result"
    },
    {
     "data": {
      "image/png": "[encoded data removed]",
      "text/plain": [
       "<Figure size 640x480 with 1 Axes>"
      ]
     },
     "metadata": {},
     "output_type": "display_data"
    }
   ],
   "source": [
    "sns.boxplot(data, y='Builtup')"
   ]
  },
  {
   "cell_type": "code",
   "execution_count": 17,
   "id": "398b736f",
   "metadata": {},
   "outputs": [],
   "source": [
    "data['b_z'] = (data['Builtup'] - data['Builtup'].mean())/data['Builtup'].std()"
   ]
  },
  {
   "cell_type": "code",
   "execution_count": 18,
   "id": "1d6f70e9",
   "metadata": {},
   "outputs": [
    {
     "name": "stderr",
     "output_type": "stream",
     "text": [
      "C:\\Users\\ASUS\\anaconda3\\envs\\dm\\Lib\\site-packages\\seaborn\\_oldcore.py:1498: FutureWarning: is_categorical_dtype is deprecated and will be removed in a future version. Use isinstance(dtype, CategoricalDtype) instead\n",
      "  if pd.api.types.is_categorical_dtype(vector):\n"
     ]
    },
    {
     "data": {
      "text/plain": [
       "<Axes: ylabel='Rainfall'>"
      ]
     },
     "execution_count": 18,
     "metadata": {},
     "output_type": "execute_result"
    },
    {
     "data": {
      "image/png": "[encoded data removed]",
      "text/plain": [
       "<Figure size 640x480 with 1 Axes>"
      ]
     },
     "metadata": {},
     "output_type": "display_data"
    }
   ],
   "source": [
    "sns.boxplot(data, y='Rainfall')"
   ]
  },
  {
   "cell_type": "code",
   "execution_count": 19,
   "id": "6c1d5b46",
   "metadata": {},
   "outputs": [],
   "source": [
    "data['RF_z'] = (data['Rainfall'] - data['Rainfall'].mean())/data['Rainfall'].std()"
   ]
  },
  {
   "cell_type": "code",
   "execution_count": 20,
   "id": "57d079aa",
   "metadata": {},
   "outputs": [
    {
     "name": "stderr",
     "output_type": "stream",
     "text": [
      "C:\\Users\\ASUS\\anaconda3\\envs\\dm\\Lib\\site-packages\\seaborn\\_oldcore.py:1498: FutureWarning: is_categorical_dtype is deprecated and will be removed in a future version. Use isinstance(dtype, CategoricalDtype) instead\n",
      "  if pd.api.types.is_categorical_dtype(vector):\n"
     ]
    },
    {
     "data": {
      "text/plain": [
       "<Axes: ylabel='House_Price'>"
      ]
     },
     "execution_count": 20,
     "metadata": {},
     "output_type": "execute_result"
    },
    {
     "data": {
      "image/png": "[encoded data removed]",
      "text/plain": [
       "<Figure size 640x480 with 1 Axes>"
      ]
     },
     "metadata": {},
     "output_type": "display_data"
    }
   ],
   "source": [
    "sns.boxplot(data, y='House_Price')"
   ]
  },
  {
   "cell_type": "code",
   "execution_count": 21,
   "id": "03434c55",
   "metadata": {},
   "outputs": [
    {
     "data": {
      "text/html": [
       "<div>\n",
       "<style scoped>\n",
       "    .dataframe tbody tr th:only-of-type {\n",
       "        vertical-align: middle;\n",
       "    }\n",
       "\n",
       "    .dataframe tbody tr th {\n",
       "        vertical-align: top;\n",
       "    }\n",
       "\n",
       "    .dataframe thead th {\n",
       "        text-align: right;\n",
       "    }\n",
       "</style>\n",
       "<table border=\"1\" class=\"dataframe\">\n",
       "  <thead>\n",
       "    <tr style=\"text-align: right;\">\n",
       "      <th></th>\n",
       "      <th>Observation</th>\n",
       "      <th>Dist_Taxi</th>\n",
       "      <th>Dist_Market</th>\n",
       "      <th>Dist_Hospital</th>\n",
       "      <th>Carpet</th>\n",
       "      <th>Builtup</th>\n",
       "      <th>Parking</th>\n",
       "      <th>City_Category</th>\n",
       "      <th>Rainfall</th>\n",
       "      <th>House_Price</th>\n",
       "      <th>Dt_z</th>\n",
       "      <th>Dm_z</th>\n",
       "      <th>Dh_z</th>\n",
       "      <th>car_z</th>\n",
       "      <th>b_z</th>\n",
       "      <th>RF_z</th>\n",
       "      <th>HP_Z</th>\n",
       "    </tr>\n",
       "  </thead>\n",
       "  <tbody>\n",
       "    <tr>\n",
       "      <th>0</th>\n",
       "      <td>1</td>\n",
       "      <td>9796.0</td>\n",
       "      <td>5250.0</td>\n",
       "      <td>10703.0</td>\n",
       "      <td>1659.0</td>\n",
       "      <td>1961.0</td>\n",
       "      <td>Open</td>\n",
       "      <td>CAT B</td>\n",
       "      <td>530</td>\n",
       "      <td>6649000</td>\n",
       "      <td>0.601212</td>\n",
       "      <td>-2.255669</td>\n",
       "      <td>-0.929624</td>\n",
       "      <td>0.185476</td>\n",
       "      <td>0.353717</td>\n",
       "      <td>-0.959576</td>\n",
       "      <td>0.108327</td>\n",
       "    </tr>\n",
       "    <tr>\n",
       "      <th>1</th>\n",
       "      <td>2</td>\n",
       "      <td>8294.0</td>\n",
       "      <td>8186.0</td>\n",
       "      <td>12694.0</td>\n",
       "      <td>1461.0</td>\n",
       "      <td>1752.0</td>\n",
       "      <td>Not Provided</td>\n",
       "      <td>CAT B</td>\n",
       "      <td>210</td>\n",
       "      <td>3982000</td>\n",
       "      <td>0.014125</td>\n",
       "      <td>-1.113180</td>\n",
       "      <td>-0.160336</td>\n",
       "      <td>-0.062130</td>\n",
       "      <td>-0.089368</td>\n",
       "      <td>-2.154761</td>\n",
       "      <td>-0.415133</td>\n",
       "    </tr>\n",
       "    <tr>\n",
       "      <th>2</th>\n",
       "      <td>3</td>\n",
       "      <td>11001.0</td>\n",
       "      <td>14399.0</td>\n",
       "      <td>16991.0</td>\n",
       "      <td>1340.0</td>\n",
       "      <td>1609.0</td>\n",
       "      <td>Not Provided</td>\n",
       "      <td>CAT A</td>\n",
       "      <td>720</td>\n",
       "      <td>5401000</td>\n",
       "      <td>1.072210</td>\n",
       "      <td>1.304492</td>\n",
       "      <td>1.499952</td>\n",
       "      <td>-0.213445</td>\n",
       "      <td>-0.392530</td>\n",
       "      <td>-0.249935</td>\n",
       "      <td>-0.136622</td>\n",
       "    </tr>\n",
       "    <tr>\n",
       "      <th>3</th>\n",
       "      <td>4</td>\n",
       "      <td>8301.0</td>\n",
       "      <td>11188.0</td>\n",
       "      <td>12289.0</td>\n",
       "      <td>1451.0</td>\n",
       "      <td>1748.0</td>\n",
       "      <td>Covered</td>\n",
       "      <td>CAT B</td>\n",
       "      <td>620</td>\n",
       "      <td>5373000</td>\n",
       "      <td>0.016861</td>\n",
       "      <td>0.054992</td>\n",
       "      <td>-0.316821</td>\n",
       "      <td>-0.074636</td>\n",
       "      <td>-0.097848</td>\n",
       "      <td>-0.623431</td>\n",
       "      <td>-0.142117</td>\n",
       "    </tr>\n",
       "    <tr>\n",
       "      <th>4</th>\n",
       "      <td>5</td>\n",
       "      <td>10510.0</td>\n",
       "      <td>12629.0</td>\n",
       "      <td>13921.0</td>\n",
       "      <td>1770.0</td>\n",
       "      <td>2111.0</td>\n",
       "      <td>Not Provided</td>\n",
       "      <td>CAT B</td>\n",
       "      <td>450</td>\n",
       "      <td>4662000</td>\n",
       "      <td>0.880293</td>\n",
       "      <td>0.615730</td>\n",
       "      <td>0.313756</td>\n",
       "      <td>0.324285</td>\n",
       "      <td>0.671720</td>\n",
       "      <td>-1.258372</td>\n",
       "      <td>-0.281668</td>\n",
       "    </tr>\n",
       "  </tbody>\n",
       "</table>\n",
       "</div>"
      ],
      "text/plain": [
       "   Observation  Dist_Taxi  Dist_Market  Dist_Hospital  Carpet  Builtup  \\\n",
       "0            1     9796.0       5250.0        10703.0  1659.0   1961.0   \n",
       "1            2     8294.0       8186.0        12694.0  1461.0   1752.0   \n",
       "2            3    11001.0      14399.0        16991.0  1340.0   1609.0   \n",
       "3            4     8301.0      11188.0        12289.0  1451.0   1748.0   \n",
       "4            5    10510.0      12629.0        13921.0  1770.0   2111.0   \n",
       "\n",
       "        Parking City_Category  Rainfall  House_Price      Dt_z      Dm_z  \\\n",
       "0          Open         CAT B       530      6649000  0.601212 -2.255669   \n",
       "1  Not Provided         CAT B       210      3982000  0.014125 -1.113180   \n",
       "2  Not Provided         CAT A       720      5401000  1.072210  1.304492   \n",
       "3       Covered         CAT B       620      5373000  0.016861  0.054992   \n",
       "4  Not Provided         CAT B       450      4662000  0.880293  0.615730   \n",
       "\n",
       "       Dh_z     car_z       b_z      RF_z      HP_Z  \n",
       "0 -0.929624  0.185476  0.353717 -0.959576  0.108327  \n",
       "1 -0.160336 -0.062130 -0.089368 -2.154761 -0.415133  \n",
       "2  1.499952 -0.213445 -0.392530 -0.249935 -0.136622  \n",
       "3 -0.316821 -0.074636 -0.097848 -0.623431 -0.142117  \n",
       "4  0.313756  0.324285  0.671720 -1.258372 -0.281668  "
      ]
     },
     "execution_count": 21,
     "metadata": {},
     "output_type": "execute_result"
    }
   ],
   "source": [
    "data['HP_Z'] = (data['House_Price'] - data['House_Price'].mean())/data['House_Price'].std()\n",
    "data.head()"
   ]
  },
  {
   "cell_type": "code",
   "execution_count": 22,
   "id": "248863ea",
   "metadata": {},
   "outputs": [],
   "source": [
    "data_clean = data[(data.Dt_z < 1) & (data.Dt_z > -1) & (data.Dm_z <2) & (data.Dm_z > -2) & (data.Dh_z <2) & (data.Dh_z > -2) & (data.car_z < 1) & (data.car_z >-1) & (data.b_z < 1) & (data.b_z>-1) & (data.RF_z <1) & (data.RF_z >-1)&(data.HP_Z <1)]"
   ]
  },
  {
   "cell_type": "code",
   "execution_count": 23,
   "id": "33d105d8",
   "metadata": {},
   "outputs": [
    {
     "name": "stderr",
     "output_type": "stream",
     "text": [
      "C:\\Users\\ASUS\\anaconda3\\envs\\dm\\Lib\\site-packages\\seaborn\\_oldcore.py:1498: FutureWarning: is_categorical_dtype is deprecated and will be removed in a future version. Use isinstance(dtype, CategoricalDtype) instead\n",
      "  if pd.api.types.is_categorical_dtype(vector):\n"
     ]
    },
    {
     "data": {
      "text/plain": [
       "<Axes: ylabel='Rainfall'>"
      ]
     },
     "execution_count": 23,
     "metadata": {},
     "output_type": "execute_result"
    },
    {
     "data": {
      "image/png": "[encoded data removed]",
      "text/plain": [
       "<Figure size 640x480 with 1 Axes>"
      ]
     },
     "metadata": {},
     "output_type": "display_data"
    }
   ],
   "source": [
    "sns.boxplot(data_clean, y='Rainfall')"
   ]
  },
  {
   "cell_type": "code",
   "execution_count": 24,
   "id": "cccb7be6",
   "metadata": {},
   "outputs": [
    {
     "name": "stdout",
     "output_type": "stream",
     "text": [
      "<class 'pandas.core.frame.DataFrame'>\n",
      "Index: 364 entries, 3 to 933\n",
      "Data columns (total 17 columns):\n",
      " #   Column         Non-Null Count  Dtype  \n",
      "---  ------         --------------  -----  \n",
      " 0   Observation    364 non-null    int64  \n",
      " 1   Dist_Taxi      364 non-null    float64\n",
      " 2   Dist_Market    364 non-null    float64\n",
      " 3   Dist_Hospital  364 non-null    float64\n",
      " 4   Carpet         364 non-null    float64\n",
      " 5   Builtup        364 non-null    float64\n",
      " 6   Parking        364 non-null    object \n",
      " 7   City_Category  364 non-null    object \n",
      " 8   Rainfall       364 non-null    int64  \n",
      " 9   House_Price    364 non-null    int64  \n",
      " 10  Dt_z           364 non-null    float64\n",
      " 11  Dm_z           364 non-null    float64\n",
      " 12  Dh_z           364 non-null    float64\n",
      " 13  car_z          364 non-null    float64\n",
      " 14  b_z            364 non-null    float64\n",
      " 15  RF_z           364 non-null    float64\n",
      " 16  HP_Z           364 non-null    float64\n",
      "dtypes: float64(12), int64(3), object(2)\n",
      "memory usage: 51.2+ KB\n"
     ]
    }
   ],
   "source": [
    "data_clean.info()"
   ]
  },
  {
   "cell_type": "code",
   "execution_count": 25,
   "id": "3681649f",
   "metadata": {},
   "outputs": [
    {
     "name": "stdout",
     "output_type": "stream",
     "text": [
      "<class 'pandas.core.frame.DataFrame'>\n",
      "Index: 364 entries, 3 to 933\n",
      "Data columns (total 10 columns):\n",
      " #   Column         Non-Null Count  Dtype  \n",
      "---  ------         --------------  -----  \n",
      " 0   Observation    364 non-null    int64  \n",
      " 1   Dist_Taxi      364 non-null    float64\n",
      " 2   Dist_Market    364 non-null    float64\n",
      " 3   Dist_Hospital  364 non-null    float64\n",
      " 4   Carpet         364 non-null    float64\n",
      " 5   Builtup        364 non-null    float64\n",
      " 6   Parking        364 non-null    object \n",
      " 7   City_Category  364 non-null    object \n",
      " 8   Rainfall       364 non-null    int64  \n",
      " 9   House_Price    364 non-null    int64  \n",
      "dtypes: float64(5), int64(3), object(2)\n",
      "memory usage: 31.3+ KB\n"
     ]
    },
    {
     "name": "stderr",
     "output_type": "stream",
     "text": [
      "C:\\Users\\ASUS\\AppData\\Local\\Temp\\ipykernel_14456\\3952823494.py:1: SettingWithCopyWarning: \n",
      "A value is trying to be set on a copy of a slice from a DataFrame\n",
      "\n",
      "See the caveats in the documentation: https://pandas.pydata.org/pandas-docs/stable/user_guide/indexing.html#returning-a-view-versus-a-copy\n",
      "  data_clean.drop('Dt_z', axis =1, inplace=True)\n",
      "C:\\Users\\ASUS\\AppData\\Local\\Temp\\ipykernel_14456\\3952823494.py:2: SettingWithCopyWarning: \n",
      "A value is trying to be set on a copy of a slice from a DataFrame\n",
      "\n",
      "See the caveats in the documentation: https://pandas.pydata.org/pandas-docs/stable/user_guide/indexing.html#returning-a-view-versus-a-copy\n",
      "  data_clean.drop('Dm_z', axis=1, inplace=True)\n",
      "C:\\Users\\ASUS\\AppData\\Local\\Temp\\ipykernel_14456\\3952823494.py:3: SettingWithCopyWarning: \n",
      "A value is trying to be set on a copy of a slice from a DataFrame\n",
      "\n",
      "See the caveats in the documentation: https://pandas.pydata.org/pandas-docs/stable/user_guide/indexing.html#returning-a-view-versus-a-copy\n",
      "  data_clean.drop('Dh_z', axis=1, inplace=True)\n",
      "C:\\Users\\ASUS\\AppData\\Local\\Temp\\ipykernel_14456\\3952823494.py:4: SettingWithCopyWarning: \n",
      "A value is trying to be set on a copy of a slice from a DataFrame\n",
      "\n",
      "See the caveats in the documentation: https://pandas.pydata.org/pandas-docs/stable/user_guide/indexing.html#returning-a-view-versus-a-copy\n",
      "  data_clean.drop('car_z', axis=1, inplace=True)\n",
      "C:\\Users\\ASUS\\AppData\\Local\\Temp\\ipykernel_14456\\3952823494.py:5: SettingWithCopyWarning: \n",
      "A value is trying to be set on a copy of a slice from a DataFrame\n",
      "\n",
      "See the caveats in the documentation: https://pandas.pydata.org/pandas-docs/stable/user_guide/indexing.html#returning-a-view-versus-a-copy\n",
      "  data_clean.drop('b_z', axis=1, inplace=True)\n",
      "C:\\Users\\ASUS\\AppData\\Local\\Temp\\ipykernel_14456\\3952823494.py:6: SettingWithCopyWarning: \n",
      "A value is trying to be set on a copy of a slice from a DataFrame\n",
      "\n",
      "See the caveats in the documentation: https://pandas.pydata.org/pandas-docs/stable/user_guide/indexing.html#returning-a-view-versus-a-copy\n",
      "  data_clean.drop('RF_z', axis=1, inplace=True)\n",
      "C:\\Users\\ASUS\\AppData\\Local\\Temp\\ipykernel_14456\\3952823494.py:7: SettingWithCopyWarning: \n",
      "A value is trying to be set on a copy of a slice from a DataFrame\n",
      "\n",
      "See the caveats in the documentation: https://pandas.pydata.org/pandas-docs/stable/user_guide/indexing.html#returning-a-view-versus-a-copy\n",
      "  data_clean.drop('HP_Z', axis =1, inplace=True)\n"
     ]
    }
   ],
   "source": [
    "data_clean.drop('Dt_z', axis =1, inplace=True)\n",
    "data_clean.drop('Dm_z', axis=1, inplace=True)\n",
    "data_clean.drop('Dh_z', axis=1, inplace=True)\n",
    "data_clean.drop('car_z', axis=1, inplace=True)\n",
    "data_clean.drop('b_z', axis=1, inplace=True)\n",
    "data_clean.drop('RF_z', axis=1, inplace=True)\n",
    "data_clean.drop('HP_Z', axis =1, inplace=True)\n",
    "data_clean.info()"
   ]
  },
  {
   "cell_type": "markdown",
   "id": "93e88d75",
   "metadata": {},
   "source": [
    "Data sebelum dibersihkan tidak memiliki duplikat, namun memiliki missing value dan outlier. Setelah data sudah dibersihkan akan dilanjutkan kedalam tahap Analisis."
   ]
  },
  {
   "cell_type": "code",
   "execution_count": 26,
   "id": "b72ce91b",
   "metadata": {},
   "outputs": [
    {
     "data": {
      "text/html": [
       "<div>\n",
       "<style scoped>\n",
       "    .dataframe tbody tr th:only-of-type {\n",
       "        vertical-align: middle;\n",
       "    }\n",
       "\n",
       "    .dataframe tbody tr th {\n",
       "        vertical-align: top;\n",
       "    }\n",
       "\n",
       "    .dataframe thead th {\n",
       "        text-align: right;\n",
       "    }\n",
       "</style>\n",
       "<table border=\"1\" class=\"dataframe\">\n",
       "  <thead>\n",
       "    <tr style=\"text-align: right;\">\n",
       "      <th></th>\n",
       "      <th>Observation</th>\n",
       "      <th>Dist_Taxi</th>\n",
       "      <th>Dist_Market</th>\n",
       "      <th>Dist_Hospital</th>\n",
       "      <th>Carpet</th>\n",
       "      <th>Builtup</th>\n",
       "      <th>Parking</th>\n",
       "      <th>City_Category</th>\n",
       "      <th>Rainfall</th>\n",
       "      <th>House_Price</th>\n",
       "    </tr>\n",
       "  </thead>\n",
       "  <tbody>\n",
       "    <tr>\n",
       "      <th>3</th>\n",
       "      <td>4</td>\n",
       "      <td>8301.0</td>\n",
       "      <td>11188.0</td>\n",
       "      <td>12289.0</td>\n",
       "      <td>1451.0</td>\n",
       "      <td>1748.0</td>\n",
       "      <td>Covered</td>\n",
       "      <td>CAT B</td>\n",
       "      <td>620</td>\n",
       "      <td>5373000</td>\n",
       "    </tr>\n",
       "    <tr>\n",
       "      <th>7</th>\n",
       "      <td>8</td>\n",
       "      <td>5882.0</td>\n",
       "      <td>9948.0</td>\n",
       "      <td>13315.0</td>\n",
       "      <td>1261.0</td>\n",
       "      <td>1507.0</td>\n",
       "      <td>Open</td>\n",
       "      <td>CAT C</td>\n",
       "      <td>1020</td>\n",
       "      <td>3772000</td>\n",
       "    </tr>\n",
       "    <tr>\n",
       "      <th>11</th>\n",
       "      <td>12</td>\n",
       "      <td>8066.0</td>\n",
       "      <td>11149.0</td>\n",
       "      <td>12936.0</td>\n",
       "      <td>1751.0</td>\n",
       "      <td>2098.0</td>\n",
       "      <td>No Parking</td>\n",
       "      <td>CAT B</td>\n",
       "      <td>720</td>\n",
       "      <td>5762000</td>\n",
       "    </tr>\n",
       "    <tr>\n",
       "      <th>12</th>\n",
       "      <td>13</td>\n",
       "      <td>7693.0</td>\n",
       "      <td>9130.0</td>\n",
       "      <td>14684.0</td>\n",
       "      <td>1746.0</td>\n",
       "      <td>2064.0</td>\n",
       "      <td>Open</td>\n",
       "      <td>CAT B</td>\n",
       "      <td>1050</td>\n",
       "      <td>6047000</td>\n",
       "    </tr>\n",
       "    <tr>\n",
       "      <th>14</th>\n",
       "      <td>15</td>\n",
       "      <td>6027.0</td>\n",
       "      <td>6707.0</td>\n",
       "      <td>10176.0</td>\n",
       "      <td>1469.0</td>\n",
       "      <td>1756.0</td>\n",
       "      <td>Open</td>\n",
       "      <td>CAT B</td>\n",
       "      <td>770</td>\n",
       "      <td>6636000</td>\n",
       "    </tr>\n",
       "  </tbody>\n",
       "</table>\n",
       "</div>"
      ],
      "text/plain": [
       "    Observation  Dist_Taxi  Dist_Market  Dist_Hospital  Carpet  Builtup  \\\n",
       "3             4     8301.0      11188.0        12289.0  1451.0   1748.0   \n",
       "7             8     5882.0       9948.0        13315.0  1261.0   1507.0   \n",
       "11           12     8066.0      11149.0        12936.0  1751.0   2098.0   \n",
       "12           13     7693.0       9130.0        14684.0  1746.0   2064.0   \n",
       "14           15     6027.0       6707.0        10176.0  1469.0   1756.0   \n",
       "\n",
       "       Parking City_Category  Rainfall  House_Price  \n",
       "3      Covered         CAT B       620      5373000  \n",
       "7         Open         CAT C      1020      3772000  \n",
       "11  No Parking         CAT B       720      5762000  \n",
       "12        Open         CAT B      1050      6047000  \n",
       "14        Open         CAT B       770      6636000  "
      ]
     },
     "execution_count": 26,
     "metadata": {},
     "output_type": "execute_result"
    }
   ],
   "source": [
    "data_clean.head()"
   ]
  },
  {
   "cell_type": "code",
   "execution_count": 27,
   "id": "158b603b",
   "metadata": {},
   "outputs": [
    {
     "name": "stderr",
     "output_type": "stream",
     "text": [
      "C:\\Users\\ASUS\\anaconda3\\envs\\dm\\Lib\\site-packages\\seaborn\\_oldcore.py:1498: FutureWarning: is_categorical_dtype is deprecated and will be removed in a future version. Use isinstance(dtype, CategoricalDtype) instead\n",
      "  if pd.api.types.is_categorical_dtype(vector):\n",
      "C:\\Users\\ASUS\\anaconda3\\envs\\dm\\Lib\\site-packages\\seaborn\\_oldcore.py:1498: FutureWarning: is_categorical_dtype is deprecated and will be removed in a future version. Use isinstance(dtype, CategoricalDtype) instead\n",
      "  if pd.api.types.is_categorical_dtype(vector):\n",
      "C:\\Users\\ASUS\\anaconda3\\envs\\dm\\Lib\\site-packages\\seaborn\\_oldcore.py:1498: FutureWarning: is_categorical_dtype is deprecated and will be removed in a future version. Use isinstance(dtype, CategoricalDtype) instead\n",
      "  if pd.api.types.is_categorical_dtype(vector):\n",
      "C:\\Users\\ASUS\\anaconda3\\envs\\dm\\Lib\\site-packages\\seaborn\\_oldcore.py:1498: FutureWarning: is_categorical_dtype is deprecated and will be removed in a future version. Use isinstance(dtype, CategoricalDtype) instead\n",
      "  if pd.api.types.is_categorical_dtype(vector):\n",
      "C:\\Users\\ASUS\\anaconda3\\envs\\dm\\Lib\\site-packages\\seaborn\\_oldcore.py:1498: FutureWarning: is_categorical_dtype is deprecated and will be removed in a future version. Use isinstance(dtype, CategoricalDtype) instead\n",
      "  if pd.api.types.is_categorical_dtype(vector):\n",
      "C:\\Users\\ASUS\\anaconda3\\envs\\dm\\Lib\\site-packages\\seaborn\\_oldcore.py:1498: FutureWarning: is_categorical_dtype is deprecated and will be removed in a future version. Use isinstance(dtype, CategoricalDtype) instead\n",
      "  if pd.api.types.is_categorical_dtype(vector):\n",
      "C:\\Users\\ASUS\\anaconda3\\envs\\dm\\Lib\\site-packages\\seaborn\\_oldcore.py:1498: FutureWarning: is_categorical_dtype is deprecated and will be removed in a future version. Use isinstance(dtype, CategoricalDtype) instead\n",
      "  if pd.api.types.is_categorical_dtype(vector):\n",
      "C:\\Users\\ASUS\\anaconda3\\envs\\dm\\Lib\\site-packages\\seaborn\\_oldcore.py:1498: FutureWarning: is_categorical_dtype is deprecated and will be removed in a future version. Use isinstance(dtype, CategoricalDtype) instead\n",
      "  if pd.api.types.is_categorical_dtype(vector):\n",
      "C:\\Users\\ASUS\\anaconda3\\envs\\dm\\Lib\\site-packages\\seaborn\\_oldcore.py:1119: FutureWarning: use_inf_as_na option is deprecated and will be removed in a future version. Convert inf values to NaN before operating instead.\n",
      "  with pd.option_context('mode.use_inf_as_na', True):\n",
      "C:\\Users\\ASUS\\anaconda3\\envs\\dm\\Lib\\site-packages\\seaborn\\_oldcore.py:1119: FutureWarning: use_inf_as_na option is deprecated and will be removed in a future version. Convert inf values to NaN before operating instead.\n",
      "  with pd.option_context('mode.use_inf_as_na', True):\n"
     ]
    },
    {
     "data": {
      "text/plain": [
       "<seaborn.axisgrid.FacetGrid at 0x2262fa2fa10>"
      ]
     },
     "execution_count": 27,
     "metadata": {},
     "output_type": "execute_result"
    },
    {
     "data": {
      "image/png": "[encoded data removed]",
      "text/plain": [
       "<Figure size 609.236x500 with 1 Axes>"
      ]
     },
     "metadata": {},
     "output_type": "display_data"
    }
   ],
   "source": [
    "# Mencari tahu harga rumah terendah dan tertinggi serta berapa dalam category apakkah rumah dengan harga terendah?.\n",
    "sns.catplot(data_clean, y='House_Price', hue='City_Category')"
   ]
  },
  {
   "cell_type": "markdown",
   "id": "331dc375",
   "metadata": {},
   "source": [
    "Diketahui bahwa berdasarkan visualisasi catplot dengan sumbu x yang berisikan variabel rumah dan dikelompokan berdarkan ciy category. Rumah dengan harga terendah berada pada Category C"
   ]
  },
  {
   "cell_type": "code",
   "execution_count": 28,
   "id": "c4161e73",
   "metadata": {},
   "outputs": [
    {
     "data": {
      "text/plain": [
       "1492000"
      ]
     },
     "execution_count": 28,
     "metadata": {},
     "output_type": "execute_result"
    }
   ],
   "source": [
    "data_clean['House_Price'].min()"
   ]
  },
  {
   "cell_type": "markdown",
   "id": "bdf4fa6c",
   "metadata": {},
   "source": [
    "Berdasarkan perhitungan dengan menggunakan function min diketahui harga rumah tersebut sebesar 1492000 "
   ]
  },
  {
   "cell_type": "code",
   "execution_count": 29,
   "id": "917ea061",
   "metadata": {},
   "outputs": [
    {
     "name": "stderr",
     "output_type": "stream",
     "text": [
      "C:\\Users\\ASUS\\AppData\\Local\\Temp\\ipykernel_14456\\1656761243.py:1: UserWarning: Boolean Series key will be reindexed to match DataFrame index.\n",
      "  data_clean[data['House_Price']==1492000]\n"
     ]
    },
    {
     "data": {
      "text/html": [
       "<div>\n",
       "<style scoped>\n",
       "    .dataframe tbody tr th:only-of-type {\n",
       "        vertical-align: middle;\n",
       "    }\n",
       "\n",
       "    .dataframe tbody tr th {\n",
       "        vertical-align: top;\n",
       "    }\n",
       "\n",
       "    .dataframe thead th {\n",
       "        text-align: right;\n",
       "    }\n",
       "</style>\n",
       "<table border=\"1\" class=\"dataframe\">\n",
       "  <thead>\n",
       "    <tr style=\"text-align: right;\">\n",
       "      <th></th>\n",
       "      <th>Observation</th>\n",
       "      <th>Dist_Taxi</th>\n",
       "      <th>Dist_Market</th>\n",
       "      <th>Dist_Hospital</th>\n",
       "      <th>Carpet</th>\n",
       "      <th>Builtup</th>\n",
       "      <th>Parking</th>\n",
       "      <th>City_Category</th>\n",
       "      <th>Rainfall</th>\n",
       "      <th>House_Price</th>\n",
       "    </tr>\n",
       "  </thead>\n",
       "  <tbody>\n",
       "    <tr>\n",
       "      <th>33</th>\n",
       "      <td>34</td>\n",
       "      <td>8248.0</td>\n",
       "      <td>8464.0</td>\n",
       "      <td>11292.0</td>\n",
       "      <td>1250.0</td>\n",
       "      <td>1508.0</td>\n",
       "      <td>Open</td>\n",
       "      <td>CAT C</td>\n",
       "      <td>990</td>\n",
       "      <td>1492000</td>\n",
       "    </tr>\n",
       "  </tbody>\n",
       "</table>\n",
       "</div>"
      ],
      "text/plain": [
       "    Observation  Dist_Taxi  Dist_Market  Dist_Hospital  Carpet  Builtup  \\\n",
       "33           34     8248.0       8464.0        11292.0  1250.0   1508.0   \n",
       "\n",
       "   Parking City_Category  Rainfall  House_Price  \n",
       "33    Open         CAT C       990      1492000  "
      ]
     },
     "execution_count": 29,
     "metadata": {},
     "output_type": "execute_result"
    }
   ],
   "source": [
    "data_clean[data['House_Price']==1492000]"
   ]
  },
  {
   "cell_type": "markdown",
   "id": "19a3fa30",
   "metadata": {},
   "source": [
    "Setelah diobservasi lebih lanjut diketahui bahwa harga rumah terendah berada pada kategori C, dengan jarak ketempat taxi 8248, jarak ke pasar sejauh 8464, jarak kerumah sakit sebesar 11292, luas bangunan sebesar 1508, serta luas halaman sebesar 1250. Selain itu rumah ini memeiliki curah hujan sebesar 990, juga tidak memili lahan parkir."
   ]
  },
  {
   "cell_type": "code",
   "execution_count": 30,
   "id": "84cbe69a",
   "metadata": {},
   "outputs": [
    {
     "name": "stderr",
     "output_type": "stream",
     "text": [
      "C:\\Users\\ASUS\\AppData\\Local\\Temp\\ipykernel_14456\\2565867544.py:3: SettingWithCopyWarning: \n",
      "A value is trying to be set on a copy of a slice from a DataFrame.\n",
      "Try using .loc[row_indexer,col_indexer] = value instead\n",
      "\n",
      "See the caveats in the documentation: https://pandas.pydata.org/pandas-docs/stable/user_guide/indexing.html#returning-a-view-versus-a-copy\n",
      "  data_clean['Parking'] = le.fit_transform(data_clean['Parking'])\n",
      "C:\\Users\\ASUS\\AppData\\Local\\Temp\\ipykernel_14456\\2565867544.py:4: SettingWithCopyWarning: \n",
      "A value is trying to be set on a copy of a slice from a DataFrame.\n",
      "Try using .loc[row_indexer,col_indexer] = value instead\n",
      "\n",
      "See the caveats in the documentation: https://pandas.pydata.org/pandas-docs/stable/user_guide/indexing.html#returning-a-view-versus-a-copy\n",
      "  data_clean['City_Category'] = le.fit_transform(data_clean['City_Category'])\n"
     ]
    },
    {
     "data": {
      "text/html": [
       "<div>\n",
       "<style scoped>\n",
       "    .dataframe tbody tr th:only-of-type {\n",
       "        vertical-align: middle;\n",
       "    }\n",
       "\n",
       "    .dataframe tbody tr th {\n",
       "        vertical-align: top;\n",
       "    }\n",
       "\n",
       "    .dataframe thead th {\n",
       "        text-align: right;\n",
       "    }\n",
       "</style>\n",
       "<table border=\"1\" class=\"dataframe\">\n",
       "  <thead>\n",
       "    <tr style=\"text-align: right;\">\n",
       "      <th></th>\n",
       "      <th>Observation</th>\n",
       "      <th>Dist_Taxi</th>\n",
       "      <th>Dist_Market</th>\n",
       "      <th>Dist_Hospital</th>\n",
       "      <th>Carpet</th>\n",
       "      <th>Builtup</th>\n",
       "      <th>Parking</th>\n",
       "      <th>City_Category</th>\n",
       "      <th>Rainfall</th>\n",
       "      <th>House_Price</th>\n",
       "    </tr>\n",
       "  </thead>\n",
       "  <tbody>\n",
       "    <tr>\n",
       "      <th>3</th>\n",
       "      <td>4</td>\n",
       "      <td>8301.0</td>\n",
       "      <td>11188.0</td>\n",
       "      <td>12289.0</td>\n",
       "      <td>1451.0</td>\n",
       "      <td>1748.0</td>\n",
       "      <td>0</td>\n",
       "      <td>1</td>\n",
       "      <td>620</td>\n",
       "      <td>5373000</td>\n",
       "    </tr>\n",
       "    <tr>\n",
       "      <th>7</th>\n",
       "      <td>8</td>\n",
       "      <td>5882.0</td>\n",
       "      <td>9948.0</td>\n",
       "      <td>13315.0</td>\n",
       "      <td>1261.0</td>\n",
       "      <td>1507.0</td>\n",
       "      <td>3</td>\n",
       "      <td>2</td>\n",
       "      <td>1020</td>\n",
       "      <td>3772000</td>\n",
       "    </tr>\n",
       "    <tr>\n",
       "      <th>11</th>\n",
       "      <td>12</td>\n",
       "      <td>8066.0</td>\n",
       "      <td>11149.0</td>\n",
       "      <td>12936.0</td>\n",
       "      <td>1751.0</td>\n",
       "      <td>2098.0</td>\n",
       "      <td>1</td>\n",
       "      <td>1</td>\n",
       "      <td>720</td>\n",
       "      <td>5762000</td>\n",
       "    </tr>\n",
       "    <tr>\n",
       "      <th>12</th>\n",
       "      <td>13</td>\n",
       "      <td>7693.0</td>\n",
       "      <td>9130.0</td>\n",
       "      <td>14684.0</td>\n",
       "      <td>1746.0</td>\n",
       "      <td>2064.0</td>\n",
       "      <td>3</td>\n",
       "      <td>1</td>\n",
       "      <td>1050</td>\n",
       "      <td>6047000</td>\n",
       "    </tr>\n",
       "    <tr>\n",
       "      <th>14</th>\n",
       "      <td>15</td>\n",
       "      <td>6027.0</td>\n",
       "      <td>6707.0</td>\n",
       "      <td>10176.0</td>\n",
       "      <td>1469.0</td>\n",
       "      <td>1756.0</td>\n",
       "      <td>3</td>\n",
       "      <td>1</td>\n",
       "      <td>770</td>\n",
       "      <td>6636000</td>\n",
       "    </tr>\n",
       "  </tbody>\n",
       "</table>\n",
       "</div>"
      ],
      "text/plain": [
       "    Observation  Dist_Taxi  Dist_Market  Dist_Hospital  Carpet  Builtup  \\\n",
       "3             4     8301.0      11188.0        12289.0  1451.0   1748.0   \n",
       "7             8     5882.0       9948.0        13315.0  1261.0   1507.0   \n",
       "11           12     8066.0      11149.0        12936.0  1751.0   2098.0   \n",
       "12           13     7693.0       9130.0        14684.0  1746.0   2064.0   \n",
       "14           15     6027.0       6707.0        10176.0  1469.0   1756.0   \n",
       "\n",
       "    Parking  City_Category  Rainfall  House_Price  \n",
       "3         0              1       620      5373000  \n",
       "7         3              2      1020      3772000  \n",
       "11        1              1       720      5762000  \n",
       "12        3              1      1050      6047000  \n",
       "14        3              1       770      6636000  "
      ]
     },
     "execution_count": 30,
     "metadata": {},
     "output_type": "execute_result"
    }
   ],
   "source": [
    "from sklearn.preprocessing import LabelEncoder\n",
    "le = LabelEncoder()\n",
    "data_clean['Parking'] = le.fit_transform(data_clean['Parking'])\n",
    "data_clean['City_Category'] = le.fit_transform(data_clean['City_Category'])\n",
    "data_clean.head()"
   ]
  },
  {
   "cell_type": "code",
   "execution_count": 31,
   "id": "bb6d43ad",
   "metadata": {},
   "outputs": [],
   "source": [
    "#Mengecek korelasi antara Harga Rumah dengan Keseluruhan Variabel\n",
    "datacor = data_clean.corr()"
   ]
  },
  {
   "cell_type": "code",
   "execution_count": 32,
   "id": "5f1b810f",
   "metadata": {},
   "outputs": [
    {
     "data": {
      "text/plain": [
       "<Axes: >"
      ]
     },
     "execution_count": 32,
     "metadata": {},
     "output_type": "execute_result"
    },
    {
     "data": {
      "image/png": "[encoded data removed]",
      "text/plain": [
       "<Figure size 800x800 with 2 Axes>"
      ]
     },
     "metadata": {},
     "output_type": "display_data"
    }
   ],
   "source": [
    "plt.figure(figsize=(8,8))\n",
    "sns.heatmap(datacor, annot=True)"
   ]
  },
  {
   "cell_type": "code",
   "execution_count": 33,
   "id": "438eeaeb",
   "metadata": {},
   "outputs": [
    {
     "data": {
      "text/html": [
       "<div>\n",
       "<style scoped>\n",
       "    .dataframe tbody tr th:only-of-type {\n",
       "        vertical-align: middle;\n",
       "    }\n",
       "\n",
       "    .dataframe tbody tr th {\n",
       "        vertical-align: top;\n",
       "    }\n",
       "\n",
       "    .dataframe thead th {\n",
       "        text-align: right;\n",
       "    }\n",
       "</style>\n",
       "<table border=\"1\" class=\"dataframe\">\n",
       "  <thead>\n",
       "    <tr style=\"text-align: right;\">\n",
       "      <th></th>\n",
       "      <th>Observation</th>\n",
       "      <th>Dist_Taxi</th>\n",
       "      <th>Dist_Market</th>\n",
       "      <th>Dist_Hospital</th>\n",
       "      <th>Carpet</th>\n",
       "      <th>Builtup</th>\n",
       "      <th>Parking</th>\n",
       "      <th>City_Category</th>\n",
       "      <th>Rainfall</th>\n",
       "      <th>House_Price</th>\n",
       "    </tr>\n",
       "  </thead>\n",
       "  <tbody>\n",
       "    <tr>\n",
       "      <th>3</th>\n",
       "      <td>4</td>\n",
       "      <td>8301.0</td>\n",
       "      <td>11188.0</td>\n",
       "      <td>12289.0</td>\n",
       "      <td>1451.0</td>\n",
       "      <td>1748.0</td>\n",
       "      <td>0</td>\n",
       "      <td>1</td>\n",
       "      <td>620</td>\n",
       "      <td>5373000</td>\n",
       "    </tr>\n",
       "    <tr>\n",
       "      <th>7</th>\n",
       "      <td>8</td>\n",
       "      <td>5882.0</td>\n",
       "      <td>9948.0</td>\n",
       "      <td>13315.0</td>\n",
       "      <td>1261.0</td>\n",
       "      <td>1507.0</td>\n",
       "      <td>3</td>\n",
       "      <td>2</td>\n",
       "      <td>1020</td>\n",
       "      <td>3772000</td>\n",
       "    </tr>\n",
       "    <tr>\n",
       "      <th>11</th>\n",
       "      <td>12</td>\n",
       "      <td>8066.0</td>\n",
       "      <td>11149.0</td>\n",
       "      <td>12936.0</td>\n",
       "      <td>1751.0</td>\n",
       "      <td>2098.0</td>\n",
       "      <td>1</td>\n",
       "      <td>1</td>\n",
       "      <td>720</td>\n",
       "      <td>5762000</td>\n",
       "    </tr>\n",
       "    <tr>\n",
       "      <th>12</th>\n",
       "      <td>13</td>\n",
       "      <td>7693.0</td>\n",
       "      <td>9130.0</td>\n",
       "      <td>14684.0</td>\n",
       "      <td>1746.0</td>\n",
       "      <td>2064.0</td>\n",
       "      <td>3</td>\n",
       "      <td>1</td>\n",
       "      <td>1050</td>\n",
       "      <td>6047000</td>\n",
       "    </tr>\n",
       "    <tr>\n",
       "      <th>14</th>\n",
       "      <td>15</td>\n",
       "      <td>6027.0</td>\n",
       "      <td>6707.0</td>\n",
       "      <td>10176.0</td>\n",
       "      <td>1469.0</td>\n",
       "      <td>1756.0</td>\n",
       "      <td>3</td>\n",
       "      <td>1</td>\n",
       "      <td>770</td>\n",
       "      <td>6636000</td>\n",
       "    </tr>\n",
       "  </tbody>\n",
       "</table>\n",
       "</div>"
      ],
      "text/plain": [
       "    Observation  Dist_Taxi  Dist_Market  Dist_Hospital  Carpet  Builtup  \\\n",
       "3             4     8301.0      11188.0        12289.0  1451.0   1748.0   \n",
       "7             8     5882.0       9948.0        13315.0  1261.0   1507.0   \n",
       "11           12     8066.0      11149.0        12936.0  1751.0   2098.0   \n",
       "12           13     7693.0       9130.0        14684.0  1746.0   2064.0   \n",
       "14           15     6027.0       6707.0        10176.0  1469.0   1756.0   \n",
       "\n",
       "    Parking  City_Category  Rainfall  House_Price  \n",
       "3         0              1       620      5373000  \n",
       "7         3              2      1020      3772000  \n",
       "11        1              1       720      5762000  \n",
       "12        3              1      1050      6047000  \n",
       "14        3              1       770      6636000  "
      ]
     },
     "execution_count": 33,
     "metadata": {},
     "output_type": "execute_result"
    }
   ],
   "source": [
    "data_clean.head()"
   ]
  },
  {
   "cell_type": "markdown",
   "id": "34f7b320",
   "metadata": {},
   "source": [
    "# Processing"
   ]
  },
  {
   "cell_type": "code",
   "execution_count": 34,
   "id": "31176c0d",
   "metadata": {},
   "outputs": [
    {
     "data": {
      "text/html": [
       "<div>\n",
       "<style scoped>\n",
       "    .dataframe tbody tr th:only-of-type {\n",
       "        vertical-align: middle;\n",
       "    }\n",
       "\n",
       "    .dataframe tbody tr th {\n",
       "        vertical-align: top;\n",
       "    }\n",
       "\n",
       "    .dataframe thead th {\n",
       "        text-align: right;\n",
       "    }\n",
       "</style>\n",
       "<table border=\"1\" class=\"dataframe\">\n",
       "  <thead>\n",
       "    <tr style=\"text-align: right;\">\n",
       "      <th></th>\n",
       "      <th>Observation</th>\n",
       "      <th>Dist_Taxi</th>\n",
       "      <th>Dist_Market</th>\n",
       "      <th>Dist_Hospital</th>\n",
       "      <th>Carpet</th>\n",
       "      <th>Builtup</th>\n",
       "      <th>Parking</th>\n",
       "      <th>City_Category</th>\n",
       "      <th>Rainfall</th>\n",
       "    </tr>\n",
       "  </thead>\n",
       "  <tbody>\n",
       "    <tr>\n",
       "      <th>3</th>\n",
       "      <td>4</td>\n",
       "      <td>8301.0</td>\n",
       "      <td>11188.0</td>\n",
       "      <td>12289.0</td>\n",
       "      <td>1451.0</td>\n",
       "      <td>1748.0</td>\n",
       "      <td>0</td>\n",
       "      <td>1</td>\n",
       "      <td>620</td>\n",
       "    </tr>\n",
       "    <tr>\n",
       "      <th>7</th>\n",
       "      <td>8</td>\n",
       "      <td>5882.0</td>\n",
       "      <td>9948.0</td>\n",
       "      <td>13315.0</td>\n",
       "      <td>1261.0</td>\n",
       "      <td>1507.0</td>\n",
       "      <td>3</td>\n",
       "      <td>2</td>\n",
       "      <td>1020</td>\n",
       "    </tr>\n",
       "    <tr>\n",
       "      <th>11</th>\n",
       "      <td>12</td>\n",
       "      <td>8066.0</td>\n",
       "      <td>11149.0</td>\n",
       "      <td>12936.0</td>\n",
       "      <td>1751.0</td>\n",
       "      <td>2098.0</td>\n",
       "      <td>1</td>\n",
       "      <td>1</td>\n",
       "      <td>720</td>\n",
       "    </tr>\n",
       "    <tr>\n",
       "      <th>12</th>\n",
       "      <td>13</td>\n",
       "      <td>7693.0</td>\n",
       "      <td>9130.0</td>\n",
       "      <td>14684.0</td>\n",
       "      <td>1746.0</td>\n",
       "      <td>2064.0</td>\n",
       "      <td>3</td>\n",
       "      <td>1</td>\n",
       "      <td>1050</td>\n",
       "    </tr>\n",
       "    <tr>\n",
       "      <th>14</th>\n",
       "      <td>15</td>\n",
       "      <td>6027.0</td>\n",
       "      <td>6707.0</td>\n",
       "      <td>10176.0</td>\n",
       "      <td>1469.0</td>\n",
       "      <td>1756.0</td>\n",
       "      <td>3</td>\n",
       "      <td>1</td>\n",
       "      <td>770</td>\n",
       "    </tr>\n",
       "    <tr>\n",
       "      <th>...</th>\n",
       "      <td>...</td>\n",
       "      <td>...</td>\n",
       "      <td>...</td>\n",
       "      <td>...</td>\n",
       "      <td>...</td>\n",
       "      <td>...</td>\n",
       "      <td>...</td>\n",
       "      <td>...</td>\n",
       "      <td>...</td>\n",
       "    </tr>\n",
       "    <tr>\n",
       "      <th>918</th>\n",
       "      <td>919</td>\n",
       "      <td>10022.0</td>\n",
       "      <td>12911.0</td>\n",
       "      <td>16307.0</td>\n",
       "      <td>1819.0</td>\n",
       "      <td>2187.0</td>\n",
       "      <td>2</td>\n",
       "      <td>1</td>\n",
       "      <td>590</td>\n",
       "    </tr>\n",
       "    <tr>\n",
       "      <th>921</th>\n",
       "      <td>922</td>\n",
       "      <td>9205.0</td>\n",
       "      <td>10418.0</td>\n",
       "      <td>14496.0</td>\n",
       "      <td>1118.0</td>\n",
       "      <td>1337.0</td>\n",
       "      <td>3</td>\n",
       "      <td>0</td>\n",
       "      <td>560</td>\n",
       "    </tr>\n",
       "    <tr>\n",
       "      <th>924</th>\n",
       "      <td>925</td>\n",
       "      <td>9615.0</td>\n",
       "      <td>7904.0</td>\n",
       "      <td>12521.0</td>\n",
       "      <td>1451.0</td>\n",
       "      <td>1734.0</td>\n",
       "      <td>3</td>\n",
       "      <td>2</td>\n",
       "      <td>670</td>\n",
       "    </tr>\n",
       "    <tr>\n",
       "      <th>928</th>\n",
       "      <td>929</td>\n",
       "      <td>7214.0</td>\n",
       "      <td>8717.0</td>\n",
       "      <td>10553.0</td>\n",
       "      <td>1387.0</td>\n",
       "      <td>1663.0</td>\n",
       "      <td>3</td>\n",
       "      <td>0</td>\n",
       "      <td>850</td>\n",
       "    </tr>\n",
       "    <tr>\n",
       "      <th>933</th>\n",
       "      <td>934</td>\n",
       "      <td>9205.0</td>\n",
       "      <td>10418.0</td>\n",
       "      <td>14496.0</td>\n",
       "      <td>1118.0</td>\n",
       "      <td>1337.0</td>\n",
       "      <td>3</td>\n",
       "      <td>0</td>\n",
       "      <td>560</td>\n",
       "    </tr>\n",
       "  </tbody>\n",
       "</table>\n",
       "<p>364 rows × 9 columns</p>\n",
       "</div>"
      ],
      "text/plain": [
       "     Observation  Dist_Taxi  Dist_Market  Dist_Hospital  Carpet  Builtup  \\\n",
       "3              4     8301.0      11188.0        12289.0  1451.0   1748.0   \n",
       "7              8     5882.0       9948.0        13315.0  1261.0   1507.0   \n",
       "11            12     8066.0      11149.0        12936.0  1751.0   2098.0   \n",
       "12            13     7693.0       9130.0        14684.0  1746.0   2064.0   \n",
       "14            15     6027.0       6707.0        10176.0  1469.0   1756.0   \n",
       "..           ...        ...          ...            ...     ...      ...   \n",
       "918          919    10022.0      12911.0        16307.0  1819.0   2187.0   \n",
       "921          922     9205.0      10418.0        14496.0  1118.0   1337.0   \n",
       "924          925     9615.0       7904.0        12521.0  1451.0   1734.0   \n",
       "928          929     7214.0       8717.0        10553.0  1387.0   1663.0   \n",
       "933          934     9205.0      10418.0        14496.0  1118.0   1337.0   \n",
       "\n",
       "     Parking  City_Category  Rainfall  \n",
       "3          0              1       620  \n",
       "7          3              2      1020  \n",
       "11         1              1       720  \n",
       "12         3              1      1050  \n",
       "14         3              1       770  \n",
       "..       ...            ...       ...  \n",
       "918        2              1       590  \n",
       "921        3              0       560  \n",
       "924        3              2       670  \n",
       "928        3              0       850  \n",
       "933        3              0       560  \n",
       "\n",
       "[364 rows x 9 columns]"
      ]
     },
     "execution_count": 34,
     "metadata": {},
     "output_type": "execute_result"
    }
   ],
   "source": [
    "X = data_clean.drop('House_Price', axis=1)\n",
    "X"
   ]
  },
  {
   "cell_type": "code",
   "execution_count": 35,
   "id": "be19625f",
   "metadata": {},
   "outputs": [
    {
     "data": {
      "text/plain": [
       "3      5373000\n",
       "7      3772000\n",
       "11     5762000\n",
       "12     6047000\n",
       "14     6636000\n",
       "        ...   \n",
       "918    4792000\n",
       "921    7227000\n",
       "924    3488000\n",
       "928    8208000\n",
       "933    7227000\n",
       "Name: House_Price, Length: 364, dtype: int64"
      ]
     },
     "execution_count": 35,
     "metadata": {},
     "output_type": "execute_result"
    }
   ],
   "source": [
    "Y = data_clean['House_Price']\n",
    "Y"
   ]
  },
  {
   "cell_type": "code",
   "execution_count": 36,
   "id": "d996c19d",
   "metadata": {},
   "outputs": [],
   "source": [
    "from sklearn.model_selection import train_test_split\n",
    "X_train, X_test, Y_train, Y_test = train_test_split(X,Y, random_state=0, test_size=0.2)"
   ]
  },
  {
   "cell_type": "code",
   "execution_count": 38,
   "id": "15d9598b",
   "metadata": {},
   "outputs": [],
   "source": [
    "from sklearn.tree import DecisionTreeRegressor\n",
    "dt = DecisionTreeRegressor()\n",
    "model = dt.fit(X_train, Y_train)\n",
    "model_pred = model.predict(X_test)"
   ]
  },
  {
   "cell_type": "code",
   "execution_count": 39,
   "id": "373370e3",
   "metadata": {},
   "outputs": [],
   "source": [
    "from sklearn.metrics import mean_absolute_percentage_error, mean_squared_error, r2_score"
   ]
  },
  {
   "cell_type": "code",
   "execution_count": 40,
   "id": "c0f53d20",
   "metadata": {},
   "outputs": [
    {
     "data": {
      "text/plain": [
       "0.28264928783821436"
      ]
     },
     "execution_count": 40,
     "metadata": {},
     "output_type": "execute_result"
    }
   ],
   "source": [
    "mean_absolute_percentage_error(model_pred, Y_test)\n"
   ]
  },
  {
   "cell_type": "code",
   "execution_count": 41,
   "id": "4d24f920",
   "metadata": {},
   "outputs": [
    {
     "data": {
      "text/plain": [
       "2659904452054.7944"
      ]
     },
     "execution_count": 41,
     "metadata": {},
     "output_type": "execute_result"
    }
   ],
   "source": [
    "mean_squared_error(model_pred, Y_test)"
   ]
  },
  {
   "cell_type": "code",
   "execution_count": 42,
   "id": "20cbd3b2",
   "metadata": {},
   "outputs": [
    {
     "data": {
      "text/plain": [
       "0.031027279254559725"
      ]
     },
     "execution_count": 42,
     "metadata": {},
     "output_type": "execute_result"
    }
   ],
   "source": [
    "r2_score(model_pred, Y_test)"
   ]
  },
  {
   "cell_type": "code",
   "execution_count": 43,
   "id": "7bd69f09",
   "metadata": {},
   "outputs": [
    {
     "data": {
      "text/html": [
       "<div>\n",
       "<style scoped>\n",
       "    .dataframe tbody tr th:only-of-type {\n",
       "        vertical-align: middle;\n",
       "    }\n",
       "\n",
       "    .dataframe tbody tr th {\n",
       "        vertical-align: top;\n",
       "    }\n",
       "\n",
       "    .dataframe thead th {\n",
       "        text-align: right;\n",
       "    }\n",
       "</style>\n",
       "<table border=\"1\" class=\"dataframe\">\n",
       "  <thead>\n",
       "    <tr style=\"text-align: right;\">\n",
       "      <th></th>\n",
       "      <th>Data Actual</th>\n",
       "      <th>Data Prediksi</th>\n",
       "    </tr>\n",
       "  </thead>\n",
       "  <tbody>\n",
       "    <tr>\n",
       "      <th>776</th>\n",
       "      <td>3856000</td>\n",
       "      <td>5132000.0</td>\n",
       "    </tr>\n",
       "    <tr>\n",
       "      <th>661</th>\n",
       "      <td>5337000</td>\n",
       "      <td>6401000.0</td>\n",
       "    </tr>\n",
       "    <tr>\n",
       "      <th>118</th>\n",
       "      <td>6295000</td>\n",
       "      <td>5748000.0</td>\n",
       "    </tr>\n",
       "    <tr>\n",
       "      <th>67</th>\n",
       "      <td>4910000</td>\n",
       "      <td>2147000.0</td>\n",
       "    </tr>\n",
       "    <tr>\n",
       "      <th>570</th>\n",
       "      <td>5907000</td>\n",
       "      <td>4298000.0</td>\n",
       "    </tr>\n",
       "    <tr>\n",
       "      <th>...</th>\n",
       "      <td>...</td>\n",
       "      <td>...</td>\n",
       "    </tr>\n",
       "    <tr>\n",
       "      <th>519</th>\n",
       "      <td>4030000</td>\n",
       "      <td>6603000.0</td>\n",
       "    </tr>\n",
       "    <tr>\n",
       "      <th>607</th>\n",
       "      <td>6218000</td>\n",
       "      <td>6597000.0</td>\n",
       "    </tr>\n",
       "    <tr>\n",
       "      <th>715</th>\n",
       "      <td>5459000</td>\n",
       "      <td>7549000.0</td>\n",
       "    </tr>\n",
       "    <tr>\n",
       "      <th>308</th>\n",
       "      <td>5753000</td>\n",
       "      <td>2175000.0</td>\n",
       "    </tr>\n",
       "    <tr>\n",
       "      <th>814</th>\n",
       "      <td>7408000</td>\n",
       "      <td>9300000.0</td>\n",
       "    </tr>\n",
       "  </tbody>\n",
       "</table>\n",
       "<p>73 rows × 2 columns</p>\n",
       "</div>"
      ],
      "text/plain": [
       "     Data Actual  Data Prediksi\n",
       "776      3856000      5132000.0\n",
       "661      5337000      6401000.0\n",
       "118      6295000      5748000.0\n",
       "67       4910000      2147000.0\n",
       "570      5907000      4298000.0\n",
       "..           ...            ...\n",
       "519      4030000      6603000.0\n",
       "607      6218000      6597000.0\n",
       "715      5459000      7549000.0\n",
       "308      5753000      2175000.0\n",
       "814      7408000      9300000.0\n",
       "\n",
       "[73 rows x 2 columns]"
      ]
     },
     "execution_count": 43,
     "metadata": {},
     "output_type": "execute_result"
    }
   ],
   "source": [
    "dframe = pd.DataFrame({'Data Actual':Y_test, 'Data Prediksi':model_pred})\n",
    "dframe"
   ]
  },
  {
   "cell_type": "code",
   "execution_count": null,
   "id": "0ea5b530",
   "metadata": {},
   "outputs": [],
   "source": []
  }
 ],
 "metadata": {
  "kernelspec": {
   "display_name": "Python 3 (ipykernel)",
   "language": "python",
   "name": "python3"
  },
  "language_info": {
   "codemirror_mode": {
    "name": "ipython",
    "version": 3
   },
   "file_extension": ".py",
   "mimetype": "text/x-python",
   "name": "python",
   "nbconvert_exporter": "python",
   "pygments_lexer": "ipython3",
   "version": "3.11.5"
  }
 },
 "nbformat": 4,
 "nbformat_minor": 5
}
